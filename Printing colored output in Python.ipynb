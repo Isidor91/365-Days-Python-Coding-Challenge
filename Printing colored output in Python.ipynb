{
 "cells": [
  {
   "cell_type": "code",
   "execution_count": 5,
   "id": "996b5022",
   "metadata": {},
   "outputs": [
    {
     "name": "stdout",
     "output_type": "stream",
     "text": [
      "\u001b[33mHome Sweet Home\n",
      "\u001b[30mNight And Day\n",
      "\u001b[34mLife Is Beautiful\n",
      "\u001b[32mCalifornia\n"
     ]
    }
   ],
   "source": [
    "from colorama import Fore\n",
    "print(Fore.YELLOW + \"Home Sweet Home\")\n",
    "print(Fore.BLACK + \"Night And Day\")\n",
    "print(Fore.BLUE + \"Life Is Beautiful\")\n",
    "print(Fore.GREEN + \"California\")"
   ]
  },
  {
   "cell_type": "code",
   "execution_count": null,
   "id": "f7faf198",
   "metadata": {},
   "outputs": [],
   "source": []
  }
 ],
 "metadata": {
  "kernelspec": {
   "display_name": "Python 3 (ipykernel)",
   "language": "python",
   "name": "python3"
  },
  "language_info": {
   "codemirror_mode": {
    "name": "ipython",
    "version": 3
   },
   "file_extension": ".py",
   "mimetype": "text/x-python",
   "name": "python",
   "nbconvert_exporter": "python",
   "pygments_lexer": "ipython3",
   "version": "3.11.4"
  }
 },
 "nbformat": 4,
 "nbformat_minor": 5
}
