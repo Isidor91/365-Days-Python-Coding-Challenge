{
 "cells": [
  {
   "cell_type": "code",
   "execution_count": 2,
   "id": "787bcae5",
   "metadata": {},
   "outputs": [
    {
     "name": "stdout",
     "output_type": "stream",
     "text": [
      "Enter a decimal number : 23\n",
      "0b10111 in binary.\n",
      "0o27 in octal.\n",
      "0x17 in hexadecimal.\n"
     ]
    }
   ],
   "source": [
    "# Python program to convert decimal into other numbers systems\n",
    "dec = int(input(\"Enter a decimal number : \"))\n",
    "\n",
    "# decimal to binary\n",
    "print(bin(dec), \"in binary.\")\n",
    "\n",
    "# decimal to octal\n",
    "print(oct(dec), \"in octal.\")\n",
    "\n",
    "# decimal to hexadecimal\n",
    "print(hex(dec),\"in hexadecimal.\")"
   ]
  }
 ],
 "metadata": {
  "kernelspec": {
   "display_name": "Python 3 (ipykernel)",
   "language": "python",
   "name": "python3"
  },
  "language_info": {
   "codemirror_mode": {
    "name": "ipython",
    "version": 3
   },
   "file_extension": ".py",
   "mimetype": "text/x-python",
   "name": "python",
   "nbconvert_exporter": "python",
   "pygments_lexer": "ipython3",
   "version": "3.11.4"
  }
 },
 "nbformat": 4,
 "nbformat_minor": 5
}
