{
 "cells": [
  {
   "cell_type": "code",
   "execution_count": 16,
   "id": "50fb4ce4",
   "metadata": {},
   "outputs": [
    {
     "name": "stdout",
     "output_type": "stream",
     "text": [
      "Enter your height in centimeters: 187\n",
      "Enter your weight in kilograms: 73\n",
      "Your body mass index is:  20.875632703251448\n",
      "You are healthy\n"
     ]
    }
   ],
   "source": [
    "Height=float(input(\"Enter your height in centimeters: \"))\n",
    "Weight=float(input(\"Enter your weight in kilograms: \"))\n",
    "Height = Height/100\n",
    "BMI=Weight/(Height*Height)\n",
    "print(\"Your body mass index is: \",BMI)\n",
    "if(BMI>0):\n",
    "    if(BMI<=16):\n",
    "        print(\"You are severely underweight\")\n",
    "    elif(BMI<=18.5):\n",
    "        print(\"You are underweight\")\n",
    "    elif(BMI<=25):\n",
    "        print(\"You are healthy\")\n",
    "    elif(BMI<=30):\n",
    "        print(\"You are overweight\")\n",
    "    else: print(\"You are severely overweight\")\n",
    "else:(\"Enter valid details\")\n",
    "    \n",
    "'''❣️Hey MOM program says I'm actually healthy! I know I need more kiloo's😐duuhh. \n",
    "Working on it, it's tough ya know. #IV_POLE\n",
    "\n",
    "🎵Denis & Denis - Program tvog kompjutera'''  "
   ]
  },
  {
   "cell_type": "code",
   "execution_count": null,
   "id": "9defb004",
   "metadata": {},
   "outputs": [],
   "source": []
  }
 ],
 "metadata": {
  "kernelspec": {
   "display_name": "Python 3 (ipykernel)",
   "language": "python",
   "name": "python3"
  },
  "language_info": {
   "codemirror_mode": {
    "name": "ipython",
    "version": 3
   },
   "file_extension": ".py",
   "mimetype": "text/x-python",
   "name": "python",
   "nbconvert_exporter": "python",
   "pygments_lexer": "ipython3",
   "version": "3.11.4"
  }
 },
 "nbformat": 4,
 "nbformat_minor": 5
}
