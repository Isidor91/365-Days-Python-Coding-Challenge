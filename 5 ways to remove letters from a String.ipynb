{
 "cells": [
  {
   "cell_type": "code",
   "execution_count": 3,
   "id": "efba9557",
   "metadata": {},
   "outputs": [
    {
     "data": {
      "text/plain": [
       "'dor'"
      ]
     },
     "execution_count": 3,
     "metadata": {},
     "output_type": "execute_result"
    }
   ],
   "source": [
    "#1st method\n",
    "p='isidor'\n",
    "p.replace('isi','')"
   ]
  },
  {
   "cell_type": "code",
   "execution_count": 4,
   "id": "916d72aa",
   "metadata": {},
   "outputs": [
    {
     "data": {
      "text/plain": [
       "'isi'"
      ]
     },
     "execution_count": 4,
     "metadata": {},
     "output_type": "execute_result"
    }
   ],
   "source": [
    "#2nd method\n",
    "p='isidor'\n",
    "p[0:3]"
   ]
  },
  {
   "cell_type": "code",
   "execution_count": 5,
   "id": "b167e437",
   "metadata": {},
   "outputs": [
    {
     "data": {
      "text/plain": [
       "'sidor'"
      ]
     },
     "execution_count": 5,
     "metadata": {},
     "output_type": "execute_result"
    }
   ],
   "source": [
    "#3rd method\n",
    "p='isidor'\n",
    "p.partition('i')[2]"
   ]
  },
  {
   "cell_type": "code",
   "execution_count": 7,
   "id": "af4bece3",
   "metadata": {},
   "outputs": [
    {
     "data": {
      "text/plain": [
       "'dor'"
      ]
     },
     "execution_count": 7,
     "metadata": {},
     "output_type": "execute_result"
    }
   ],
   "source": [
    "#4th method\n",
    "import re\n",
    "p='isidor'\n",
    "re.sub(r'isi', '',p)"
   ]
  },
  {
   "cell_type": "code",
   "execution_count": 10,
   "id": "6da11fc8",
   "metadata": {},
   "outputs": [
    {
     "data": {
      "text/plain": [
       "'sid'"
      ]
     },
     "execution_count": 10,
     "metadata": {},
     "output_type": "execute_result"
    }
   ],
   "source": [
    "#5th method\n",
    "p='isidor'\n",
    "p.strip('ior')"
   ]
  }
 ],
 "metadata": {
  "kernelspec": {
   "display_name": "Python 3 (ipykernel)",
   "language": "python",
   "name": "python3"
  },
  "language_info": {
   "codemirror_mode": {
    "name": "ipython",
    "version": 3
   },
   "file_extension": ".py",
   "mimetype": "text/x-python",
   "name": "python",
   "nbconvert_exporter": "python",
   "pygments_lexer": "ipython3",
   "version": "3.11.4"
  }
 },
 "nbformat": 4,
 "nbformat_minor": 5
}
