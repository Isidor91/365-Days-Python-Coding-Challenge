{
 "cells": [
  {
   "cell_type": "code",
   "execution_count": 2,
   "id": "b6b0cec6",
   "metadata": {},
   "outputs": [
    {
     "name": "stdout",
     "output_type": "stream",
     "text": [
      "Enter your domain : https://isiotech.com\n",
      "domain_name : ['ISIOTECH.COM', 'isiotech.com']\n",
      "registrar : Amazon Registrar, Inc.\n",
      "whois_server : whois.registrar.amazon.com\n",
      "referral_url : None\n",
      "updated_date : 2023-01-09 00:46:33\n",
      "creation_date : 2020-02-12 05:54:32\n",
      "expiration_date : 2024-02-12 05:54:32\n",
      "name_servers : ['NS-1109.AWSDNS-10.ORG', 'NS-1704.AWSDNS-21.CO.UK', 'NS-178.AWSDNS-22.COM', 'NS-972.AWSDNS-57.NET']\n",
      "status : ok https://icann.org/epp#ok\n",
      "emails : ['abuse@amazonaws.com', 'ea24cd31-4628-4d96-902c-6452c6b46af1@identity-protect.org']\n",
      "dnssec : unsigned\n",
      "name : On behalf of isiotech.com owner\n",
      "org : Identity Protection Service\n",
      "address : PO Box 786\n",
      "city : Hayes\n",
      "state : Middlesex\n",
      "registrant_postal_code : UB3 9TR\n",
      "country : GB\n"
     ]
    }
   ],
   "source": [
    "import whois\n",
    "domain=input(\"Enter your domain : \")\n",
    "domain_info = whois.whois(domain)\n",
    "for key, value in domain_info.items():\n",
    "    print(key,':', value)"
   ]
  },
  {
   "cell_type": "code",
   "execution_count": null,
   "id": "a56debc6",
   "metadata": {},
   "outputs": [],
   "source": []
  }
 ],
 "metadata": {
  "kernelspec": {
   "display_name": "Python 3 (ipykernel)",
   "language": "python",
   "name": "python3"
  },
  "language_info": {
   "codemirror_mode": {
    "name": "ipython",
    "version": 3
   },
   "file_extension": ".py",
   "mimetype": "text/x-python",
   "name": "python",
   "nbconvert_exporter": "python",
   "pygments_lexer": "ipython3",
   "version": "3.11.4"
  }
 },
 "nbformat": 4,
 "nbformat_minor": 5
}
