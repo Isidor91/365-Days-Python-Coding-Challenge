{
 "cells": [
  {
   "cell_type": "code",
   "execution_count": 1,
   "id": "8c267fe9",
   "metadata": {},
   "outputs": [
    {
     "name": "stdout",
     "output_type": "stream",
     "text": [
      "Recycle bin is emptied now\n"
     ]
    }
   ],
   "source": [
    "import winshell\n",
    "try:\n",
    "    winshell.recycle_bin().empty(confirm=False,\n",
    "                                show_progress=False, sound=True)\n",
    "    \n",
    "    print(\"Recycle bin is emptied now\")\n",
    "except:\n",
    "    \n",
    "    print(\"Recycle bin already empty\")"
   ]
  },
  {
   "cell_type": "code",
   "execution_count": null,
   "id": "e774aa73",
   "metadata": {},
   "outputs": [],
   "source": []
  }
 ],
 "metadata": {
  "kernelspec": {
   "display_name": "Python 3 (ipykernel)",
   "language": "python",
   "name": "python3"
  },
  "language_info": {
   "codemirror_mode": {
    "name": "ipython",
    "version": 3
   },
   "file_extension": ".py",
   "mimetype": "text/x-python",
   "name": "python",
   "nbconvert_exporter": "python",
   "pygments_lexer": "ipython3",
   "version": "3.11.4"
  }
 },
 "nbformat": 4,
 "nbformat_minor": 5
}
