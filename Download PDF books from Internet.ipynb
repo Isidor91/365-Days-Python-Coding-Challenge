{
 "cells": [
  {
   "cell_type": "code",
   "execution_count": 4,
   "id": "b4cbecd5",
   "metadata": {},
   "outputs": [
    {
     "name": "stdout",
     "output_type": "stream",
     "text": [
      "Enter link to download PDF : https://isiotech.com/7-leading-ml-use-cases-ebook/\n",
      "Enter a name for the  PDF file : 7 Leading Machine Learning Use Cases\n"
     ]
    },
    {
     "data": {
      "text/plain": [
       "('7 Leading Machine Learning Use Cases .pdf',\n",
       " <http.client.HTTPMessage at 0x25b9523b0d0>)"
      ]
     },
     "execution_count": 4,
     "metadata": {},
     "output_type": "execute_result"
    }
   ],
   "source": [
    "import urllib.request\n",
    "url=input(\"Enter link to download PDF : \")\n",
    "Name=input(\"Enter a name for the  PDF file : \")\n",
    "FileName = Name+\" .pdf\"\n",
    "urllib.request.urlretrieve(url,FileName)"
   ]
  },
  {
   "cell_type": "code",
   "execution_count": null,
   "id": "14ab397e",
   "metadata": {},
   "outputs": [],
   "source": []
  }
 ],
 "metadata": {
  "kernelspec": {
   "display_name": "Python 3 (ipykernel)",
   "language": "python",
   "name": "python3"
  },
  "language_info": {
   "codemirror_mode": {
    "name": "ipython",
    "version": 3
   },
   "file_extension": ".py",
   "mimetype": "text/x-python",
   "name": "python",
   "nbconvert_exporter": "python",
   "pygments_lexer": "ipython3",
   "version": "3.11.4"
  }
 },
 "nbformat": 4,
 "nbformat_minor": 5
}
