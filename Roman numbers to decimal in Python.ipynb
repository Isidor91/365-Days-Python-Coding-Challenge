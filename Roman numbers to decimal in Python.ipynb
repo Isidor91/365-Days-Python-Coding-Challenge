{
 "cells": [
  {
   "cell_type": "code",
   "execution_count": 4,
   "metadata": {},
   "outputs": [
    {
     "name": "stdout",
     "output_type": "stream",
     "text": [
      "Enter Roman Numbers :MMII\n"
     ]
    },
    {
     "data": {
      "text/plain": [
       "2002"
      ]
     },
     "execution_count": 4,
     "metadata": {},
     "output_type": "execute_result"
    }
   ],
   "source": [
    "'''☕︎ Good morning everyone it's Saturday \n",
    "and Serbia is land of MVP's :) ☕︎ '''\n",
    "\n",
    "numbers = {\"I\": 1, \"V\": 5, \"X\": 10, \"L\": 50,\n",
    "           \"C\": 100, \"D\": 500, \"M\":1000}\n",
    "def RomanNumeralToDecimal(romanNumeral):\n",
    "    sum = 0\n",
    "    for i in range(len(romanNumeral) - 1):\n",
    "        left = romanNumeral[i]\n",
    "        right = romanNumeral[i + 1]\n",
    "        if numbers[left] < numbers[right]:\n",
    "            sum -= numbers[left]\n",
    "        else:\n",
    "            sum += numbers[left]\n",
    "    sum += numbers[romanNumeral[-1]]\n",
    "    return sum\n",
    "roman=input(\"Enter Roman Numbers :\")\n",
    "RomanNumeralToDecimal(roman)"
   ]
  }
 ],
 "metadata": {
  "kernelspec": {
   "display_name": "Python 3 (ipykernel)",
   "language": "python",
   "name": "python3"
  },
  "language_info": {
   "codemirror_mode": {
    "name": "ipython",
    "version": 3
   },
   "file_extension": ".py",
   "mimetype": "text/x-python",
   "name": "python",
   "nbconvert_exporter": "python",
   "pygments_lexer": "ipython3",
   "version": "3.8.2"
  }
 },
 "nbformat": 4,
 "nbformat_minor": 2
}
