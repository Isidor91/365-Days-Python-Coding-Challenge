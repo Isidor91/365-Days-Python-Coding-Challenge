{
 "cells": [
  {
   "cell_type": "code",
   "execution_count": 7,
   "id": "32015b4a",
   "metadata": {},
   "outputs": [
    {
     "name": "stdout",
     "output_type": "stream",
     "text": [
      "Enter the 1st color :brown\n",
      "Enter the 2nd color :green\n",
      "Enter the 3rd color :gold\n",
      "\n",
      "The resistor value is : \n",
      "150000Ω and in Kiloohm : 150.0kΩ\n"
     ]
    }
   ],
   "source": [
    "#HAZEL💗 \n",
    "color=[\"black\", \"brown\", \"red\", \"orange\", \"gold\", \"green\", \"blue\", \"violet\", \"grey\", \"white\"]\n",
    "\n",
    "i=color.index((input(\"Enter the 1st color :\")))\n",
    "m=color.index((input(\"Enter the 2nd color :\")))\n",
    "mi=color.index((input(\"Enter the 3rd color :\")))\n",
    "\n",
    "q=int(((i*10)+(m))*(10**(mi)))\n",
    "z=q/1000\n",
    "\n",
    "print(\"\\nThe resistor value is : \")\n",
    "print(f\"{q}Ω and in Kiloohm : {z}kΩ\")"
   ]
  },
  {
   "cell_type": "code",
   "execution_count": null,
   "id": "705551f9",
   "metadata": {},
   "outputs": [],
   "source": []
  }
 ],
 "metadata": {
  "kernelspec": {
   "display_name": "Python 3 (ipykernel)",
   "language": "python",
   "name": "python3"
  },
  "language_info": {
   "codemirror_mode": {
    "name": "ipython",
    "version": 3
   },
   "file_extension": ".py",
   "mimetype": "text/x-python",
   "name": "python",
   "nbconvert_exporter": "python",
   "pygments_lexer": "ipython3",
   "version": "3.11.4"
  }
 },
 "nbformat": 4,
 "nbformat_minor": 5
}
