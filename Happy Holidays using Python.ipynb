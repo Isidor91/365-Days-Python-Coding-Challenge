{
 "cells": [
  {
   "cell_type": "code",
   "execution_count": 14,
   "id": "051f322c",
   "metadata": {},
   "outputs": [
    {
     "name": "stdout",
     "output_type": "stream",
     "text": [
      "                                                            \n",
      "                                                            \n",
      "                                                            \n",
      "                ysHoliday           lidaysHol               \n",
      "            idaysHolidaysHoli   sHolidaysHolidays           \n",
      "          lidaysHolidaysHolidaysHolidaysHolidaysHol         \n",
      "         lidaysHolidaysHolidaysHolidaysHolidaysHolid        \n",
      "        lidaysHolidaysHolidaysHolidaysHolidaysHoliday       \n",
      "        idaysHolidaysHolidaysHolidaysHolidaysHolidays       \n",
      "        daysHolidaysHolidaysHolidaysHolidaysHolidaysH       \n",
      "        aysHolidaysHolidaysHolidaysHolidaysHolidaysHo       \n",
      "        ysHolidaysHolidaysHolidaysHolidaysHolidaysHol       \n",
      "        sHolidaysHolidaysHolidaysHolidaysHolidaysHoli       \n",
      "         olidaysHolidaysHolidaysHolidaysHolidaysHoli        \n",
      "          idaysHolidaysHolidaysHolidaysHolidaysHoli         \n",
      "          daysHolidaysHolidaysHolidaysHolidaysHolid         \n",
      "            sHolidaysHolidaysHolidaysHolidaysHoli           \n",
      "             olidaysHolidaysHolidaysHolidaysHoli            \n",
      "              idaysHolidaysHolidaysHolidaysHoli             \n",
      "                ysHolidaysHolidaysHolidaysHol               \n",
      "                  olidaysHolidaysHolidaysHo                 \n",
      "                    daysHolidaysHolidaysH                   \n",
      "                       HolidaysHoliday                      \n",
      "                          daysHolid                         \n",
      "                             Hol                            \n",
      "                              l                             \n",
      "                                                            \n",
      "                                                            \n",
      "                                                            \n",
      "                                                            \n"
     ]
    }
   ],
   "source": [
    "print('\\n'.join\n",
    " ([''.join\n",
    "   ([('Holidays'[(x-y)%8 ]\n",
    "     if((x*0.05)**2+(y*0.1)**2-1)\n",
    "      **3-(x*0.05)**2*(y*0.1)\n",
    "       **3<=0 else' ')\n",
    "        for x in range(-30,30)])\n",
    "         for y in range(15,-15,-1)]))"
   ]
  }
 ],
 "metadata": {
  "kernelspec": {
   "display_name": "Python 3 (ipykernel)",
   "language": "python",
   "name": "python3"
  },
  "language_info": {
   "codemirror_mode": {
    "name": "ipython",
    "version": 3
   },
   "file_extension": ".py",
   "mimetype": "text/x-python",
   "name": "python",
   "nbconvert_exporter": "python",
   "pygments_lexer": "ipython3",
   "version": "3.11.4"
  }
 },
 "nbformat": 4,
 "nbformat_minor": 5
}
