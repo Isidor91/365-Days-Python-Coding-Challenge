{
 "cells": [
  {
   "cell_type": "code",
   "execution_count": 2,
   "id": "89bc124e",
   "metadata": {},
   "outputs": [
    {
     "name": "stdout",
     "output_type": "stream",
     "text": [
      "Enter no of contact you want to save : 2\n",
      "Name: isidor\n",
      "Phone Number: 3**91**2**\n",
      "Name: Isio\n",
      "Phone Number: 8042300104\n",
      "\n",
      "Name\t\t\tPhone Number\n",
      "\n",
      "isidor\t\t\t3**91**2**\n",
      "Isio\t\t\t8042300104\n",
      "\n",
      "Enter search term: isidor\n",
      "Search result:\n",
      "Name: isidor, Phone Number: 3**91**2**\n"
     ]
    }
   ],
   "source": [
    "names = []\n",
    "phone_numbers = []\n",
    "num = int(input(\"Enter no of contact you want to save : \"))\n",
    "for i in range(num):\n",
    "    name = input(\"Name: \")\n",
    "    phone_number = input(\"Phone Number: \")\n",
    "    names.append(name)\n",
    "    phone_numbers.append(phone_number)\n",
    "print(\"\\nName\\t\\t\\tPhone Number\\n\")\n",
    "for i in range(num):\n",
    "    print(\"{}\\t\\t\\t{}\".format(names[i], phone_numbers[i]))\n",
    "search_term = input(\"\\nEnter search term: \")\n",
    "print(\"Search result:\")\n",
    "if search_term in names:\n",
    "        index = names.index(search_term)\n",
    "        phone_number = phone_numbers[index]\n",
    "        print(\"Name: {}, Phone Number: {}\".format(search_term, phone_number))\n",
    "else:\n",
    "    print(\"Name not found\")"
   ]
  },
  {
   "cell_type": "code",
   "execution_count": null,
   "id": "061685da",
   "metadata": {},
   "outputs": [],
   "source": []
  }
 ],
 "metadata": {
  "kernelspec": {
   "display_name": "Python 3 (ipykernel)",
   "language": "python",
   "name": "python3"
  },
  "language_info": {
   "codemirror_mode": {
    "name": "ipython",
    "version": 3
   },
   "file_extension": ".py",
   "mimetype": "text/x-python",
   "name": "python",
   "nbconvert_exporter": "python",
   "pygments_lexer": "ipython3",
   "version": "3.11.4"
  }
 },
 "nbformat": 4,
 "nbformat_minor": 5
}
