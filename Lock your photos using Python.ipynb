{
 "cells": [
  {
   "cell_type": "code",
   "execution_count": 1,
   "id": "976bb0df",
   "metadata": {},
   "outputs": [
    {
     "name": "stdout",
     "output_type": "stream",
     "text": [
      "Your photo is locked\n"
     ]
    }
   ],
   "source": [
    "from cryptography.fernet import Fernet\n",
    "key = Fernet.generate_key()\n",
    "with open('key.key', 'wb') as f:\n",
    "    f.write(key)\n",
    "fernet = Fernet(key)\n",
    "with open('sandeep.jpg', 'rb') as f:\n",
    "    Photo = f.read()\n",
    "    \n",
    "lock = fernet.encrypt(Photo)\n",
    "with open('sandeep.jpg', 'wb') as lock_Photo:\n",
    "    lock_Photo.write(lock)\n",
    "print(\"Your photo is locked\")"
   ]
  },
  {
   "cell_type": "code",
   "execution_count": 3,
   "id": "25b8a295",
   "metadata": {},
   "outputs": [
    {
     "name": "stdout",
     "output_type": "stream",
     "text": [
      "Your photo is unlocked\n"
     ]
    }
   ],
   "source": [
    "#UNLOCK YOUR PHOTOS!\n",
    "with open('key.key', 'rb') as f:\n",
    "    key = f.read()\n",
    "fernet = Fernet(key)\n",
    "with open('sandeep.jpg', 'rb') as f:\n",
    "    Photo = f.read()\n",
    "    \n",
    "lock = fernet.decrypt(Photo)\n",
    "with open('test.txt', 'wb') as Unlock_Photo:\n",
    "    Unlock_Photo.write(lock)\n",
    "print(\"Your photo is unlocked\")"
   ]
  }
 ],
 "metadata": {
  "kernelspec": {
   "display_name": "Python 3 (ipykernel)",
   "language": "python",
   "name": "python3"
  },
  "language_info": {
   "codemirror_mode": {
    "name": "ipython",
    "version": 3
   },
   "file_extension": ".py",
   "mimetype": "text/x-python",
   "name": "python",
   "nbconvert_exporter": "python",
   "pygments_lexer": "ipython3",
   "version": "3.11.4"
  }
 },
 "nbformat": 4,
 "nbformat_minor": 5
}
