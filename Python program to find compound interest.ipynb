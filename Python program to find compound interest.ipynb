{
 "cells": [
  {
   "cell_type": "code",
   "execution_count": 2,
   "id": "ed4b7900",
   "metadata": {},
   "outputs": [
    {
     "name": "stdout",
     "output_type": "stream",
     "text": [
      "Enter Principle Value : 3000\n",
      "Enter Rate Value : 8\n",
      "Enter Time Value : 3\n",
      "Compound interest is 779.1360000000004\n"
     ]
    }
   ],
   "source": [
    "# Python program to find compound interest\n",
    "\n",
    "def compound_interest(principle, rate, time):\n",
    "    \n",
    "    # Calculates compound interest\n",
    "    Amount = principle * (pow((1 + rate / 100), time))\n",
    "    CI = Amount - principle\n",
    "    print(\"Compound interest is\", CI)\n",
    "\n",
    "P=float(input(\"Enter Principle Value : \"))\n",
    "R=float(input(\"Enter Rate Value : \"))\n",
    "T=float(input(\"Enter Time Value : \"))\n",
    "compound_interest(P,R,T)"
   ]
  },
  {
   "cell_type": "code",
   "execution_count": null,
   "id": "214df494",
   "metadata": {},
   "outputs": [],
   "source": []
  }
 ],
 "metadata": {
  "kernelspec": {
   "display_name": "Python 3 (ipykernel)",
   "language": "python",
   "name": "python3"
  },
  "language_info": {
   "codemirror_mode": {
    "name": "ipython",
    "version": 3
   },
   "file_extension": ".py",
   "mimetype": "text/x-python",
   "name": "python",
   "nbconvert_exporter": "python",
   "pygments_lexer": "ipython3",
   "version": "3.11.4"
  }
 },
 "nbformat": 4,
 "nbformat_minor": 5
}
