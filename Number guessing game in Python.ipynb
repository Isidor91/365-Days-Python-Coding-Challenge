{
 "cells": [
  {
   "cell_type": "code",
   "execution_count": 1,
   "id": "d5a19617",
   "metadata": {},
   "outputs": [
    {
     "name": "stdout",
     "output_type": "stream",
     "text": [
      "Enter lower bound:- 12\n",
      "Enter Upper bound:- 18\n",
      "\n",
      "\tYou've only  3  chances to guess the integger!\n",
      "\n",
      "Guess a number:- 14\n",
      "You guessed too small!\n",
      "Guess a number:- 15\n",
      "You guessed too small!\n",
      "Guess a number:- 18\n",
      "Congratulations you did it in  3 try\n",
      "\n",
      "The number is 18\n",
      "\tBetter luck next time!\n"
     ]
    }
   ],
   "source": [
    "import random\n",
    "import math\n",
    "lower = int(input(\"Enter lower bound:- \"))\n",
    "upper = int(input(\"Enter Upper bound:- \"))\n",
    "# generating random number between the lower and upper\n",
    "x = random.randint(lower, upper)\n",
    "print(\"\\n\\tYou've only \",round(math.log(upper - lower + 1, 2)),\n",
    "     \" chances to guess the integger!\\n\")\n",
    "# Initializing the number of guesses\n",
    "count = 0\n",
    "# for calculation of minimum number of guesses depends upon range\n",
    "while count < math.log(upper - lower + 1, 2):\n",
    "    count += 1\n",
    "    # taking guessing number as input\n",
    "    guess = int(input(\"Guess a number:- \"))\n",
    "    #Condition testing\n",
    "    if x == guess:\n",
    "        print(\"Congratulations you did it in \", count, \"try\")\n",
    "        break\n",
    "    elif x > guess:\n",
    "        print(\"You guessed too small!\")\n",
    "    elif x < guess:\n",
    "        print(\"You guesses too high!\")\n",
    "    #shows the output.\n",
    "if count >= math.log(upper - lower + 1, 2):\n",
    "    print(\"\\nThe number is %d\" % x)\n",
    "    print(\"\\tBetter luck next time!\")"
   ]
  },
  {
   "cell_type": "code",
   "execution_count": null,
   "id": "dee53d8e",
   "metadata": {},
   "outputs": [],
   "source": []
  }
 ],
 "metadata": {
  "kernelspec": {
   "display_name": "Python 3 (ipykernel)",
   "language": "python",
   "name": "python3"
  },
  "language_info": {
   "codemirror_mode": {
    "name": "ipython",
    "version": 3
   },
   "file_extension": ".py",
   "mimetype": "text/x-python",
   "name": "python",
   "nbconvert_exporter": "python",
   "pygments_lexer": "ipython3",
   "version": "3.11.4"
  }
 },
 "nbformat": 4,
 "nbformat_minor": 5
}
