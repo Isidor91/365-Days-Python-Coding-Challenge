{
 "cells": [
  {
   "cell_type": "code",
   "execution_count": 11,
   "id": "f928bea3",
   "metadata": {},
   "outputs": [],
   "source": [
    "import imageio\n",
    "filenames = [\"original.jpg\",\"original1.jpg\"]\n",
    "images = []\n",
    "for filename in filenames:\n",
    "    images.append(imageio.v2.imread(filename))\n",
    "imageio.mimsave('movie.gif', images, 'GIF',duration=1)"
   ]
  },
  {
   "cell_type": "code",
   "execution_count": null,
   "id": "3eb17060",
   "metadata": {},
   "outputs": [],
   "source": []
  }
 ],
 "metadata": {
  "kernelspec": {
   "display_name": "Python 3 (ipykernel)",
   "language": "python",
   "name": "python3"
  },
  "language_info": {
   "codemirror_mode": {
    "name": "ipython",
    "version": 3
   },
   "file_extension": ".py",
   "mimetype": "text/x-python",
   "name": "python",
   "nbconvert_exporter": "python",
   "pygments_lexer": "ipython3",
   "version": "3.11.4"
  }
 },
 "nbformat": 4,
 "nbformat_minor": 5
}
