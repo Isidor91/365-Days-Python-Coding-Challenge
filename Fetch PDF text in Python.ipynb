{
 "cells": [
  {
   "cell_type": "code",
   "execution_count": 2,
   "id": "5ec96279",
   "metadata": {},
   "outputs": [
    {
     "name": "stdout",
     "output_type": "stream",
     "text": [
      "<--- page no 1 --->\n",
      "We are supporting to\n",
      "everyone.\n",
      "Join us for live support.\n"
     ]
    }
   ],
   "source": [
    "import pdfplumber as pdftool\n",
    "def Fetch_Text(file_path):\n",
    "    # extract page by page\n",
    "    with pdftool.open(file_path) as tool:\n",
    "        for p_no, page in enumerate(tool.pages, 1):\n",
    "            print('<--- page no', p_no, '--->')\n",
    "            data = page.extract_text()\n",
    "            print(data)\n",
    "Fetch_Text(\"dummy.pdf\")"
   ]
  },
  {
   "cell_type": "code",
   "execution_count": null,
   "id": "344b15fd",
   "metadata": {},
   "outputs": [],
   "source": []
  }
 ],
 "metadata": {
  "kernelspec": {
   "display_name": "Python 3 (ipykernel)",
   "language": "python",
   "name": "python3"
  },
  "language_info": {
   "codemirror_mode": {
    "name": "ipython",
    "version": 3
   },
   "file_extension": ".py",
   "mimetype": "text/x-python",
   "name": "python",
   "nbconvert_exporter": "python",
   "pygments_lexer": "ipython3",
   "version": "3.11.4"
  }
 },
 "nbformat": 4,
 "nbformat_minor": 5
}
