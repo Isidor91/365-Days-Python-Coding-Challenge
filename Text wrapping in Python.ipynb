{
 "cells": [
  {
   "cell_type": "code",
   "execution_count": 7,
   "id": "13685163",
   "metadata": {},
   "outputs": [
    {
     "name": "stdout",
     "output_type": "stream",
     "text": [
      "With you New York City, every\n",
      "moment is a treasure. In the\n",
      "city that never sleeps, I found\n",
      "a love that keeps my heart\n",
      "awake. Infinite energy, dreams\n",
      "soar high, forever awe.\n"
     ]
    }
   ],
   "source": [
    "#♡ It's a beautiful Monday, take care of yourself and don't forget to get some ☕︎\n",
    "import textwrap\n",
    "\n",
    "value = \"\"\"With you New York City, every moment is a treasure.\n",
    "In the city that never sleeps, I found a love that keeps my heart awake.\n",
    "Infinite energy, dreams soar high, forever awe.\"\"\"\n",
    "\n",
    "# Wrap this text.\n",
    "wrapper = textwrap.TextWrapper(width=32)\n",
    "\n",
    "word_list = wrapper.wrap(text=value)\n",
    "\n",
    "#Print each line.\n",
    "for element in word_list:\n",
    "    print(element)"
   ]
  },
  {
   "cell_type": "code",
   "execution_count": null,
   "id": "d56a633a",
   "metadata": {},
   "outputs": [],
   "source": []
  }
 ],
 "metadata": {
  "kernelspec": {
   "display_name": "Python 3 (ipykernel)",
   "language": "python",
   "name": "python3"
  },
  "language_info": {
   "codemirror_mode": {
    "name": "ipython",
    "version": 3
   },
   "file_extension": ".py",
   "mimetype": "text/x-python",
   "name": "python",
   "nbconvert_exporter": "python",
   "pygments_lexer": "ipython3",
   "version": "3.11.4"
  }
 },
 "nbformat": 4,
 "nbformat_minor": 5
}
