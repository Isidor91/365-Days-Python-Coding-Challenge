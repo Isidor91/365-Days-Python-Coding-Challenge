{
 "cells": [
  {
   "cell_type": "code",
   "execution_count": 1,
   "id": "5f0230a5",
   "metadata": {},
   "outputs": [],
   "source": [
    "#importing the modules\n",
    "import pyttsx3\n",
    "import PyPDF2\n",
    "#PDF file\n",
    "path = open('dummy.pdf', 'rb')\n",
    "\n",
    "# Creating a PdfFileReader object\n",
    "pdfReader = PyPDF2.PdfReader(path)\n",
    "\n",
    "# Get an engine instance for the speech synthesis\n",
    "speak = pyttsx3.init()\n",
    "\n",
    "pages = len(pdfReader.pages)\n",
    "text = pdfReader.pages[0].extract_text()\n",
    "speak.say(text)\n",
    "speak.runAndWait()\n",
    "\n",
    "speak.stop()"
   ]
  }
 ],
 "metadata": {
  "kernelspec": {
   "display_name": "Python 3 (ipykernel)",
   "language": "python",
   "name": "python3"
  },
  "language_info": {
   "codemirror_mode": {
    "name": "ipython",
    "version": 3
   },
   "file_extension": ".py",
   "mimetype": "text/x-python",
   "name": "python",
   "nbconvert_exporter": "python",
   "pygments_lexer": "ipython3",
   "version": "3.11.4"
  }
 },
 "nbformat": 4,
 "nbformat_minor": 5
}
