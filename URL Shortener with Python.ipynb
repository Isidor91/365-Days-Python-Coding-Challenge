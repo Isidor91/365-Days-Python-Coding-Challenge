{
 "cells": [
  {
   "cell_type": "code",
   "execution_count": 11,
   "id": "d3c0dd01",
   "metadata": {},
   "outputs": [
    {
     "name": "stdout",
     "output_type": "stream",
     "text": [
      "Enter the URL to shorten: https://alignballetmethod.com/author/isidord/page/4/\n",
      "The Shortened URL is: https://tinyurl.com/ymmfpfo6\n"
     ]
    }
   ],
   "source": [
    "import pyshorteners\n",
    "long_url = input(\"Enter the URL to shorten: \")\n",
    "\n",
    "#TinyURL shortener service\n",
    "type_tiny = pyshorteners.Shortener()\n",
    "short_url = type_tiny.tinyurl.short(long_url)\n",
    "\n",
    "print(\"The Shortened URL is: \" + short_url)"
   ]
  }
 ],
 "metadata": {
  "kernelspec": {
   "display_name": "Python 3 (ipykernel)",
   "language": "python",
   "name": "python3"
  },
  "language_info": {
   "codemirror_mode": {
    "name": "ipython",
    "version": 3
   },
   "file_extension": ".py",
   "mimetype": "text/x-python",
   "name": "python",
   "nbconvert_exporter": "python",
   "pygments_lexer": "ipython3",
   "version": "3.11.4"
  }
 },
 "nbformat": 4,
 "nbformat_minor": 5
}
