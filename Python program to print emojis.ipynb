{
 "cells": [
  {
   "cell_type": "code",
   "execution_count": 5,
   "id": "dd01d479",
   "metadata": {},
   "outputs": [
    {
     "name": "stdout",
     "output_type": "stream",
     "text": [
      "🇺🇸\n",
      "📚\n",
      "🤍\n",
      "🌺\n",
      "🌹\n",
      "👶\n"
     ]
    }
   ],
   "source": [
    "import emoji\n",
    "\n",
    "print(emoji.emojize(\":United_States:\"))\n",
    "print(emoji.emojize(\":books:\"))\n",
    "print(emoji.emojize(\":white_heart:\"))\n",
    "print(emoji.emojize(\":hibiscus:\"))\n",
    "print(emoji.emojize(\":rose:\"))\n",
    "print(emoji.emojize(\":baby:\"))"
   ]
  }
 ],
 "metadata": {
  "kernelspec": {
   "display_name": "Python 3 (ipykernel)",
   "language": "python",
   "name": "python3"
  },
  "language_info": {
   "codemirror_mode": {
    "name": "ipython",
    "version": 3
   },
   "file_extension": ".py",
   "mimetype": "text/x-python",
   "name": "python",
   "nbconvert_exporter": "python",
   "pygments_lexer": "ipython3",
   "version": "3.11.4"
  }
 },
 "nbformat": 4,
 "nbformat_minor": 5
}
