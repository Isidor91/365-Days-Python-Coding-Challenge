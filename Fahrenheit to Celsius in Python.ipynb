{
 "cells": [
  {
   "cell_type": "code",
   "execution_count": 1,
   "id": "654f830f",
   "metadata": {},
   "outputs": [
    {
     "name": "stdout",
     "output_type": "stream",
     "text": [
      "Enter Values in Fahrenheit : 51\n"
     ]
    },
    {
     "data": {
      "text/plain": [
       "10.555555555555555"
      ]
     },
     "execution_count": 1,
     "metadata": {},
     "output_type": "execute_result"
    }
   ],
   "source": [
    "def convert(s):\n",
    "    f = float(s)    \n",
    "#formula Applied below  \n",
    "    c = (f - 32) * 5/9\n",
    "    return c\n",
    "celsius=input(\"Enter Values in Fahrenheit : \")\n",
    "convert(celsius)"
   ]
  },
  {
   "cell_type": "code",
   "execution_count": null,
   "id": "44f26021",
   "metadata": {},
   "outputs": [],
   "source": []
  }
 ],
 "metadata": {
  "kernelspec": {
   "display_name": "Python 3 (ipykernel)",
   "language": "python",
   "name": "python3"
  },
  "language_info": {
   "codemirror_mode": {
    "name": "ipython",
    "version": 3
   },
   "file_extension": ".py",
   "mimetype": "text/x-python",
   "name": "python",
   "nbconvert_exporter": "python",
   "pygments_lexer": "ipython3",
   "version": "3.11.4"
  }
 },
 "nbformat": 4,
 "nbformat_minor": 5
}
