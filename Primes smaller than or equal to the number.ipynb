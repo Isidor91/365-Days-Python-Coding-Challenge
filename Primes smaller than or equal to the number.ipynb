{
 "cells": [
  {
   "cell_type": "code",
   "execution_count": 7,
   "id": "c1a0fb00",
   "metadata": {},
   "outputs": [
    {
     "name": "stdout",
     "output_type": "stream",
     "text": [
      "Enter a number to check all smaller prime numbers :32\n",
      "2\n",
      "3\n",
      "5\n",
      "7\n",
      "11\n",
      "13\n",
      "17\n",
      "19\n",
      "23\n",
      "29\n",
      "31\n"
     ]
    }
   ],
   "source": [
    "def SieveOfEratosthenes(n):\n",
    "    primes = [True] * (n + 1)\n",
    "    p = 2  #p is the smallest prime\n",
    "    while(p * p <= n):\n",
    "        if(primes[p]) == True:\n",
    "            for i in range(p * 2, n + 1, p):\n",
    "                primes[i] = False\n",
    "        \n",
    "        p += 1\n",
    "    \n",
    "    for i in range(2, n):\n",
    "        if primes[i]:\n",
    "            print(i)\n",
    "if __name__ == '__main__':\n",
    "    n=int(input(\"Enter a number to check all smaller prime numbers :\"))\n",
    "    SieveOfEratosthenes(n)"
   ]
  },
  {
   "cell_type": "code",
   "execution_count": null,
   "id": "0f9262a2",
   "metadata": {},
   "outputs": [],
   "source": []
  }
 ],
 "metadata": {
  "kernelspec": {
   "display_name": "Python 3 (ipykernel)",
   "language": "python",
   "name": "python3"
  },
  "language_info": {
   "codemirror_mode": {
    "name": "ipython",
    "version": 3
   },
   "file_extension": ".py",
   "mimetype": "text/x-python",
   "name": "python",
   "nbconvert_exporter": "python",
   "pygments_lexer": "ipython3",
   "version": "3.11.4"
  }
 },
 "nbformat": 4,
 "nbformat_minor": 5
}
