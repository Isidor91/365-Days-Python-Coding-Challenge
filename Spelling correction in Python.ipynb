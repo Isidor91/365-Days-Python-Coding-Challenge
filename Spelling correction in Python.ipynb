{
 "cells": [
  {
   "cell_type": "code",
   "execution_count": 1,
   "id": "65aa198f",
   "metadata": {},
   "outputs": [
    {
     "name": "stdout",
     "output_type": "stream",
     "text": [
      "Enter your word : i liek mmornings more than nighhts!\n",
      "Wrong : ['i', 'liek', 'mmornings', 'more', 'than', 'nighhts!']\n",
      "Corrected Words are :\n",
      "i like mornings more than nights! "
     ]
    }
   ],
   "source": [
    "#💗☕︎\n",
    "from textblob import TextBlob\n",
    "def Convert(string):\n",
    "    li = list(string.split())\n",
    "    return li\n",
    "\n",
    "str1 = input(\"Enter your word : \")\n",
    "words=Convert(str1)\n",
    "corrected_words = []\n",
    "for i in words:\n",
    "    corrected_words.append(TextBlob(i))\n",
    "print(\"Wrong :\", words)\n",
    "print(\"Corrected Words are :\")\n",
    "for i in corrected_words:\n",
    "    print(i.correct(), end=\" \")"
   ]
  },
  {
   "cell_type": "code",
   "execution_count": null,
   "id": "daaaa258",
   "metadata": {},
   "outputs": [],
   "source": []
  }
 ],
 "metadata": {
  "kernelspec": {
   "display_name": "Python 3 (ipykernel)",
   "language": "python",
   "name": "python3"
  },
  "language_info": {
   "codemirror_mode": {
    "name": "ipython",
    "version": 3
   },
   "file_extension": ".py",
   "mimetype": "text/x-python",
   "name": "python",
   "nbconvert_exporter": "python",
   "pygments_lexer": "ipython3",
   "version": "3.11.4"
  }
 },
 "nbformat": 4,
 "nbformat_minor": 5
}
