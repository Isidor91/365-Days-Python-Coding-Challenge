{
 "cells": [
  {
   "cell_type": "code",
   "execution_count": 6,
   "id": "64722df0",
   "metadata": {},
   "outputs": [
    {
     "name": "stdout",
     "output_type": "stream",
     "text": [
      "Enter the code to generate barcode : 121889414153\n"
     ]
    },
    {
     "data": {
      "text/plain": [
       "'generated_barcode.png'"
      ]
     },
     "execution_count": 6,
     "metadata": {},
     "output_type": "execute_result"
    }
   ],
   "source": [
    "import barcode\n",
    "from barcode.writer import ImageWriter\n",
    "\n",
    "# Define content of the barcode as a string\n",
    "number = input(\"Enter the code to generate barcode : \")\n",
    "\n",
    "# Get the required barcode format\n",
    "barcode_format = barcode.get_barcode_class('upc')\n",
    "\n",
    "# Generate barcode and render as image\n",
    "my_barcode = barcode_format(number, writer=ImageWriter())\n",
    "\n",
    "# Save barcode as PNG\n",
    "my_barcode.save(\"generated_barcode\")"
   ]
  },
  {
   "cell_type": "code",
   "execution_count": 7,
   "id": "555730ba",
   "metadata": {},
   "outputs": [
    {
     "data": {
      "image/png": "[encoded data removed]",
      "text/plain": [
       "<PIL.PngImagePlugin.PngImageFile image mode=RGB size=523x280>"
      ]
     },
     "execution_count": 7,
     "metadata": {},
     "output_type": "execute_result"
    }
   ],
   "source": [
    "from PIL import Image # To open the barcode image and show\n",
    "Image.open(\"generated_barcode.png\")"
   ]
  },
  {
   "cell_type": "code",
   "execution_count": null,
   "id": "cfd95040",
   "metadata": {},
   "outputs": [],
   "source": []
  }
 ],
 "metadata": {
  "kernelspec": {
   "display_name": "Python 3 (ipykernel)",
   "language": "python",
   "name": "python3"
  },
  "language_info": {
   "codemirror_mode": {
    "name": "ipython",
    "version": 3
   },
   "file_extension": ".py",
   "mimetype": "text/x-python",
   "name": "python",
   "nbconvert_exporter": "python",
   "pygments_lexer": "ipython3",
   "version": "3.11.4"
  }
 },
 "nbformat": 4,
 "nbformat_minor": 5
}
