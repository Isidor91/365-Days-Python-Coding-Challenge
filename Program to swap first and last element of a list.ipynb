{
 "cells": [
  {
   "cell_type": "code",
   "execution_count": 2,
   "id": "f22f96f9",
   "metadata": {},
   "outputs": [
    {
     "name": "stdout",
     "output_type": "stream",
     "text": [
      "Enter the list items : 12 32 23 19 91 6\n",
      "[6, 32, 23, 19, 91, 12]\n"
     ]
    }
   ],
   "source": [
    "# Swap function\n",
    "def swapList(newList):\n",
    "    size = len(newList)\n",
    "    \n",
    "    # Swapping\n",
    "    temp = newList[0]\n",
    "    newList[0] = newList[size - 1]\n",
    "    newList[size - 1] = temp\n",
    "    \n",
    "    return newList\n",
    "    \n",
    "# Driver code\n",
    "newList = []\n",
    "newList = [int(item) for item in input(\"Enter the list items : \").split()]\n",
    "\n",
    "print(swapList(newList))"
   ]
  },
  {
   "cell_type": "code",
   "execution_count": null,
   "id": "2b18a1f1",
   "metadata": {},
   "outputs": [],
   "source": []
  }
 ],
 "metadata": {
  "kernelspec": {
   "display_name": "Python 3 (ipykernel)",
   "language": "python",
   "name": "python3"
  },
  "language_info": {
   "codemirror_mode": {
    "name": "ipython",
    "version": 3
   },
   "file_extension": ".py",
   "mimetype": "text/x-python",
   "name": "python",
   "nbconvert_exporter": "python",
   "pygments_lexer": "ipython3",
   "version": "3.11.4"
  }
 },
 "nbformat": 4,
 "nbformat_minor": 5
}
