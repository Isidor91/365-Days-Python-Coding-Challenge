{
 "cells": [
  {
   "cell_type": "code",
   "execution_count": 1,
   "id": "c19678ff",
   "metadata": {},
   "outputs": [
    {
     "name": "stdout",
     "output_type": "stream",
     "text": [
      "Enter the topic : good mood\n",
      "In psychology, a mood is an affective state. In contrast to emotions or feelings, moods are less specific, less intense and less likely to be provoked or instantiated by a particular stimulus or event. Moods are typically described as having either a positive or negative valence. In other words, people usually talk about being in a good mood or a bad mood. There are many different factors that influence mood, and these can lead to positive or negative effects on mood.\n",
      "Mood also differs from temperament or personality traits which are even longer-lasting. Nevertheless, personality traits such as optimism and neuroticism predispose certain types of moods. Long term disturbances of mood such as clinical depression and bipolar disorder are considered mood disorders. Mood is an internal, subjective state but it often can be inferred from posture and other behaviors. \"We can be sent into a mood by an unexpected event, from the happiness of seeing an old friend to the anger of discovering betrayal by a partner.\n"
     ]
    }
   ],
   "source": [
    "import pywhatkit as kit\n",
    "searchitem=(input(\"Enter the topic : \"))\n",
    "kit.info(searchitem, 100)"
   ]
  },
  {
   "cell_type": "code",
   "execution_count": null,
   "id": "19319665",
   "metadata": {},
   "outputs": [],
   "source": []
  }
 ],
 "metadata": {
  "kernelspec": {
   "display_name": "Python 3 (ipykernel)",
   "language": "python",
   "name": "python3"
  },
  "language_info": {
   "codemirror_mode": {
    "name": "ipython",
    "version": 3
   },
   "file_extension": ".py",
   "mimetype": "text/x-python",
   "name": "python",
   "nbconvert_exporter": "python",
   "pygments_lexer": "ipython3",
   "version": "3.11.4"
  }
 },
 "nbformat": 4,
 "nbformat_minor": 5
}
