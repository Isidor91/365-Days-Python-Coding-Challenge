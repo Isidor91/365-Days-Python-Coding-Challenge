{
 "cells": [
  {
   "cell_type": "code",
   "execution_count": 1,
   "id": "da3fa8e7",
   "metadata": {},
   "outputs": [
    {
     "name": "stdout",
     "output_type": "stream",
     "text": [
      "Enter you IP address : 110.784.12.11\n",
      "110[.]784[.]12[.]11\n"
     ]
    }
   ],
   "source": [
    "def ip_address(address):\n",
    "    new_address = \"\"\n",
    "    split_address = address.split(\".\")\n",
    "    separator = \"[.]\"\n",
    "    new_address = separator.join(split_address)\n",
    "    return new_address\n",
    "IPad=input(\"Enter you IP address : \")\n",
    "ipaddress = ip_address(IPad)\n",
    "print(ipaddress)"
   ]
  },
  {
   "cell_type": "code",
   "execution_count": null,
   "id": "95242fff",
   "metadata": {},
   "outputs": [],
   "source": []
  }
 ],
 "metadata": {
  "kernelspec": {
   "display_name": "Python 3 (ipykernel)",
   "language": "python",
   "name": "python3"
  },
  "language_info": {
   "codemirror_mode": {
    "name": "ipython",
    "version": 3
   },
   "file_extension": ".py",
   "mimetype": "text/x-python",
   "name": "python",
   "nbconvert_exporter": "python",
   "pygments_lexer": "ipython3",
   "version": "3.11.4"
  }
 },
 "nbformat": 4,
 "nbformat_minor": 5
}
