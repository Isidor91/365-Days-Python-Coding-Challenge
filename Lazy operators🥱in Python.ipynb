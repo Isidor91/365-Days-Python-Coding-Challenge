{
 "cells": [
  {
   "cell_type": "code",
   "execution_count": null,
   "id": "936c1bd5",
   "metadata": {},
   "outputs": [],
   "source": [
    "#Guess the output in this case?\n",
    "print(all([]))"
   ]
  },
  {
   "cell_type": "code",
   "execution_count": null,
   "id": "25e304d5",
   "metadata": {},
   "outputs": [],
   "source": [
    "#Guess the output in this case?\n",
    "print(any([]))"
   ]
  },
  {
   "cell_type": "markdown",
   "id": "bcc3da52",
   "metadata": {},
   "source": [
    "# Definition and Usage:\n",
    "\"\"\"The all() function returns True if all items in an iterable are true, otherwise it returns False.\n",
    "\n",
    "If the iterable object is empty, the all() function also returns True.\n",
    "\n",
    "   The any() function returns True if any item in an iterable are true, otherwise it returns False.\n",
    "\n",
    "If the iterable object is empty, the any() function will return False.\"\"\""
   ]
  }
 ],
 "metadata": {
  "kernelspec": {
   "display_name": "Python 3 (ipykernel)",
   "language": "python",
   "name": "python3"
  },
  "language_info": {
   "codemirror_mode": {
    "name": "ipython",
    "version": 3
   },
   "file_extension": ".py",
   "mimetype": "text/x-python",
   "name": "python",
   "nbconvert_exporter": "python",
   "pygments_lexer": "ipython3",
   "version": "3.11.4"
  }
 },
 "nbformat": 4,
 "nbformat_minor": 5
}
