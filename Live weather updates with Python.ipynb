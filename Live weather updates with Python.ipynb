{
 "cells": [
  {
   "cell_type": "code",
   "execution_count": 4,
   "id": "3be89daf",
   "metadata": {},
   "outputs": [
    {
     "name": "stdout",
     "output_type": "stream",
     "text": [
      "Enter city name: new york city\n",
      "Temperature (in Celsius): 19.79\n",
      "Pressure: 1026\n",
      "Description: clear sky\n"
     ]
    }
   ],
   "source": [
    "# Importing libraries\n",
    "import requests\n",
    "import json\n",
    " \n",
    "# Enter your OpenWeatherMap API key here\n",
    "# DO NOT push it to a public repository\n",
    "API_Key = \"***********************\"\n",
    " \n",
    "# Provide a valid city name\n",
    "city_name = input(\"Enter city name: \")\n",
    " \n",
    "# Constructing the API URL path\n",
    "url = f\"http://api.openweathermap.org/data/2.5/weather?q={city_name}&appid={API_Key}&units=metric\"\n",
    " \n",
    "# Making a get request to the API\n",
    "response = requests.get(url)\n",
    " \n",
    "# Converting JSON response to a dictionary\n",
    "res = response.json()\n",
    " \n",
    "# Uncomment the next line to see all\n",
    "# data that are fetched from the API\n",
    "# print(res)\n",
    " \n",
    "# Checking if the city is found\n",
    "# If the value of \"cod\" is not 404,\n",
    "# that means the city is found\n",
    "if res[\"cod\"] != \"404\":\n",
    "   data = res[\"main\"]\n",
    " \n",
    "   # Storing the live temperature data\n",
    "   live_temperature = data[\"temp\"]\n",
    " \n",
    "   # Storing the live pressure data\n",
    "   live_pressure = data[\"pressure\"]\n",
    "   desc = res[\"weather\"]\n",
    " \n",
    "   # Storing the weather description\n",
    "   weather_description = desc[0][\"description\"]\n",
    "   print(\"Temperature (in Celsius): \" + str(live_temperature))\n",
    "   print(\"Pressure: \" + str(live_pressure))\n",
    "   print(\"Description: \" + str(weather_description))\n",
    " \n",
    "else:\n",
    "   # If the city is not found,\n",
    "   # this block of code will be executed\n",
    "   print(\"Please enter a valid city name\")"
   ]
  },
  {
   "cell_type": "code",
   "execution_count": null,
   "id": "b4e9af5a",
   "metadata": {},
   "outputs": [],
   "source": []
  }
 ],
 "metadata": {
  "kernelspec": {
   "display_name": "Python 3 (ipykernel)",
   "language": "python",
   "name": "python3"
  },
  "language_info": {
   "codemirror_mode": {
    "name": "ipython",
    "version": 3
   },
   "file_extension": ".py",
   "mimetype": "text/x-python",
   "name": "python",
   "nbconvert_exporter": "python",
   "pygments_lexer": "ipython3",
   "version": "3.11.4"
  }
 },
 "nbformat": 4,
 "nbformat_minor": 5
}
