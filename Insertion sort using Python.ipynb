{
 "cells": [
  {
   "cell_type": "code",
   "execution_count": 1,
   "id": "c605a392",
   "metadata": {},
   "outputs": [
    {
     "name": "stdout",
     "output_type": "stream",
     "text": [
      "Sorted List: [3, 4, 6, 8, 10, 12, 14, 18]\n"
     ]
    }
   ],
   "source": [
    "def insertionSort(List):\n",
    "    for i in range(1, len(List)):\n",
    "        currentNumber = List[i]\n",
    "        for j in range(i - 1, -1, -1):\n",
    "            if List[j] > currentNumber :\n",
    "                List[j], List[j + 1] = List[j + 1], List[j]\n",
    "            else:\n",
    "                List[j + 1] = currentNumber\n",
    "                break\n",
    "    return List\n",
    "\n",
    "if __name__ == '__main__':\n",
    "    List = [14, 18, 8, 3, 12, 10, 4, 6]\n",
    "    print('Sorted List:',insertionSort(List))"
   ]
  }
 ],
 "metadata": {
  "kernelspec": {
   "display_name": "Python 3 (ipykernel)",
   "language": "python",
   "name": "python3"
  },
  "language_info": {
   "codemirror_mode": {
    "name": "ipython",
    "version": 3
   },
   "file_extension": ".py",
   "mimetype": "text/x-python",
   "name": "python",
   "nbconvert_exporter": "python",
   "pygments_lexer": "ipython3",
   "version": "3.11.4"
  }
 },
 "nbformat": 4,
 "nbformat_minor": 5
}
