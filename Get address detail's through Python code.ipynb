{
 "cells": [
  {
   "cell_type": "code",
   "execution_count": 5,
   "id": "f0be4b99",
   "metadata": {},
   "outputs": [
    {
     "name": "stdout",
     "output_type": "stream",
     "text": [
      "Enter the zipcode : 17501\n",
      "Zipcode: 17501\n",
      "Details of the Zipcode:\n",
      "Врање, Градска општина Врање, Град Врање, Пчињски управни округ, 17501, Централна Србија, Србија\n"
     ]
    }
   ],
   "source": [
    "from geopy.geocoders import Nominatim\n",
    "\n",
    "# Using Nominatim Api\n",
    "geolocator = Nominatim(user_agent=\"my_app\")\n",
    "\n",
    "# Zipcode input\n",
    "a = input(\"Enter the zipcode : \")\n",
    "zipcode = a\n",
    "\n",
    "# Using geocode()\n",
    "location = geolocator.geocode(zipcode)\n",
    "\n",
    "# Displaying address details\n",
    "print(\"Zipcode:\",zipcode)\n",
    "print(\"Details of the Zipcode:\")\n",
    "print(location)"
   ]
  },
  {
   "cell_type": "code",
   "execution_count": null,
   "id": "bade6a5a",
   "metadata": {},
   "outputs": [],
   "source": []
  }
 ],
 "metadata": {
  "kernelspec": {
   "display_name": "Python 3 (ipykernel)",
   "language": "python",
   "name": "python3"
  },
  "language_info": {
   "codemirror_mode": {
    "name": "ipython",
    "version": 3
   },
   "file_extension": ".py",
   "mimetype": "text/x-python",
   "name": "python",
   "nbconvert_exporter": "python",
   "pygments_lexer": "ipython3",
   "version": "3.11.4"
  }
 },
 "nbformat": 4,
 "nbformat_minor": 5
}
