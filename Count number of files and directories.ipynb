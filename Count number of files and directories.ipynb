{
 "cells": [
  {
   "cell_type": "code",
   "execution_count": 17,
   "id": "e87822e2",
   "metadata": {},
   "outputs": [
    {
     "name": "stdout",
     "output_type": "stream",
     "text": [
      "Looking in: C:/Users\\Public\\Desktop\n",
      "Number of files 15\n",
      "Number of directories 0\n",
      "Total: 15\n"
     ]
    }
   ],
   "source": [
    "import os\n",
    "\n",
    "PATH = 'C:/Users\\Public\\Desktop'\n",
    "\n",
    "fileCount = 0\n",
    "dirCount = 0\n",
    "\n",
    "for root, dirs, files in os.walk(PATH):\n",
    "    print('Looking in:',root)\n",
    "    for directories in dirs:\n",
    "        dirCount += 1\n",
    "    for Files in files:\n",
    "        fileCount += 1\n",
    "        \n",
    "print('Number of files',fileCount)\n",
    "print('Number of directories',dirCount)\n",
    "print('Total:',(dirCount + fileCount))"
   ]
  }
 ],
 "metadata": {
  "kernelspec": {
   "display_name": "Python 3 (ipykernel)",
   "language": "python",
   "name": "python3"
  },
  "language_info": {
   "codemirror_mode": {
    "name": "ipython",
    "version": 3
   },
   "file_extension": ".py",
   "mimetype": "text/x-python",
   "name": "python",
   "nbconvert_exporter": "python",
   "pygments_lexer": "ipython3",
   "version": "3.11.4"
  }
 },
 "nbformat": 4,
 "nbformat_minor": 5
}
