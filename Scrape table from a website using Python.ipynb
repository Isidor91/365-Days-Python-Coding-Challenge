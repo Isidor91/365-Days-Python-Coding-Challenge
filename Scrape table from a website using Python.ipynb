{
 "cells": [
  {
   "cell_type": "code",
   "execution_count": 36,
   "id": "992189de",
   "metadata": {},
   "outputs": [
    {
     "name": "stdout",
     "output_type": "stream",
     "text": [
      "  Points   PTS\n",
      "0   1PHI  33.1\n",
      "1   2DAL  32.4\n",
      "2   3POR  32.2\n",
      "3   4OKC  31.4\n",
      "4   5MIL  31.1\n"
     ]
    }
   ],
   "source": [
    "#This is working link:\n",
    "#https://colab.research.google.com/drive/1yjqOLwcLuxJQug1kgknmrNJrsmvM1xnI#scrollTo=7CvyaQShYDrH&line=4&uniqifier=1\n",
    "import urllib.request\n",
    "import pandas as pd\n",
    "\n",
    "url = \"https://www.espn.com/nba/bpi/_/view/playoffs\"\n",
    "\n",
    "with urllib.request.urlopen(url) as i:\n",
    "    html = i.read()\n",
    "    \n",
    "data = pd.read_html(html)[0]\n",
    "print(data.head())"
   ]
  }
 ],
 "metadata": {
  "kernelspec": {
   "display_name": "Python 3 (ipykernel)",
   "language": "python",
   "name": "python3"
  },
  "language_info": {
   "codemirror_mode": {
    "name": "ipython",
    "version": 3
   },
   "file_extension": ".py",
   "mimetype": "text/x-python",
   "name": "python",
   "nbconvert_exporter": "python",
   "pygments_lexer": "ipython3",
   "version": "3.11.4"
  }
 },
 "nbformat": 4,
 "nbformat_minor": 5
}
