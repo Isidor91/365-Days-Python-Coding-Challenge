{
 "cells": [
  {
   "cell_type": "code",
   "execution_count": 7,
   "id": "f07429b3",
   "metadata": {},
   "outputs": [
    {
     "name": "stdout",
     "output_type": "stream",
     "text": [
      "Enter a number to check : 496\n",
      "True\n"
     ]
    }
   ],
   "source": [
    "def perfectNumber(number):\n",
    "    sum = 0\n",
    "    for x in range(1, number):\n",
    "        if number % x == 0:\n",
    "            sum += x\n",
    "    return sum == number\n",
    "\n",
    "if __name__ == '__main__':\n",
    "    \n",
    "    n=int(input(\"Enter a number to check : \"))\n",
    "    print(perfectNumber(n))"
   ]
  },
  {
   "cell_type": "code",
   "execution_count": null,
   "id": "242575b9",
   "metadata": {},
   "outputs": [],
   "source": []
  }
 ],
 "metadata": {
  "kernelspec": {
   "display_name": "Python 3 (ipykernel)",
   "language": "python",
   "name": "python3"
  },
  "language_info": {
   "codemirror_mode": {
    "name": "ipython",
    "version": 3
   },
   "file_extension": ".py",
   "mimetype": "text/x-python",
   "name": "python",
   "nbconvert_exporter": "python",
   "pygments_lexer": "ipython3",
   "version": "3.11.4"
  }
 },
 "nbformat": 4,
 "nbformat_minor": 5
}
