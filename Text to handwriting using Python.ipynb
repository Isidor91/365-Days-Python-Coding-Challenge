{
 "cells": [
  {
   "cell_type": "code",
   "execution_count": null,
   "id": "22ced96d",
   "metadata": {},
   "outputs": [],
   "source": [
    "import pywhatkit as kit\n",
    "import cv2 \n",
    "Handwritten=input(\"Enter your text to convert in Handwriting : \")\n",
    "kit.text_to_handwriting(Handwritten, save_to=\"pythoncoding.png\")\n",
    "img = cv2.imread(\"pythoncoding.png\")\n",
    "cv2.imshow(\"python coding\", img)\n",
    "cv2.waitKey(0)\n",
    "cv2.destroyAllWindows()"
   ]
  },
  {
   "cell_type": "code",
   "execution_count": null,
   "id": "a7307101",
   "metadata": {},
   "outputs": [],
   "source": []
  }
 ],
 "metadata": {
  "kernelspec": {
   "display_name": "Python 3 (ipykernel)",
   "language": "python",
   "name": "python3"
  },
  "language_info": {
   "codemirror_mode": {
    "name": "ipython",
    "version": 3
   },
   "file_extension": ".py",
   "mimetype": "text/x-python",
   "name": "python",
   "nbconvert_exporter": "python",
   "pygments_lexer": "ipython3",
   "version": "3.11.4"
  }
 },
 "nbformat": 4,
 "nbformat_minor": 5
}
