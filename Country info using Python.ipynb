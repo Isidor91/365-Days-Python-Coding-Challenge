{
 "cells": [
  {
   "cell_type": "code",
   "execution_count": 2,
   "id": "e1da2b24",
   "metadata": {},
   "outputs": [
    {
     "name": "stdout",
     "output_type": "stream",
     "text": [
      "Enter your country : Serbia\n",
      "Capital is :  Belgrade\n",
      "Currencies is :  ['RSD']\n",
      "Language is :  ['rs']\n",
      "Borders are :  ['HUN', 'ROU', 'BGR', 'MKD', 'HRV', 'BIH', 'MNE', 'ALB', 'XKX']\n",
      "Others names :  ['Srbija', 'Republic of Serbia', 'Republika Srbija']\n"
     ]
    }
   ],
   "source": [
    "from countryinfo import CountryInfo\n",
    "\n",
    "count=input(\"Enter your country : \")\n",
    "country = CountryInfo(count)\n",
    "\n",
    "print(\"Capital is : \",country.capital())\n",
    "print(\"Currencies is : \",country.currencies())\n",
    "print(\"Language is : \",country.languages())\n",
    "print(\"Borders are : \",country.borders())\n",
    "print(\"Others names : \",country.alt_spellings())"
   ]
  },
  {
   "cell_type": "code",
   "execution_count": null,
   "id": "4aed116b",
   "metadata": {},
   "outputs": [],
   "source": []
  }
 ],
 "metadata": {
  "kernelspec": {
   "display_name": "Python 3 (ipykernel)",
   "language": "python",
   "name": "python3"
  },
  "language_info": {
   "codemirror_mode": {
    "name": "ipython",
    "version": 3
   },
   "file_extension": ".py",
   "mimetype": "text/x-python",
   "name": "python",
   "nbconvert_exporter": "python",
   "pygments_lexer": "ipython3",
   "version": "3.11.4"
  }
 },
 "nbformat": 4,
 "nbformat_minor": 5
}
